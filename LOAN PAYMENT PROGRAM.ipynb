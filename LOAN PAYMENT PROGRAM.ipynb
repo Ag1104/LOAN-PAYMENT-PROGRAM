{
 "cells": [
  {
   "cell_type": "code",
   "execution_count": 1,
   "id": "1005cfa6",
   "metadata": {
    "ExecuteTime": {
     "end_time": "2023-11-27T00:56:55.396130300Z",
     "start_time": "2023-11-27T00:56:05.211890800Z"
    }
   },
   "outputs": [
    {
     "name": "stdout",
     "output_type": "stream",
     "text": [
      "The monthly payment for the loan: ₦849.41\n"
     ]
    }
   ],
   "source": [
    "#Calculate a Loan Payment system\n",
    "principal_amount = int(input(\"How much do you want to borrow?:₦\"))\n",
    "interest_rate = float(input(\"Enter the interest rate: \"))\n",
    "loan_term = int(input(\"Enter the loan duration in years?: \"))\n",
    "loan_term_in_month = loan_term * 12\n",
    "monthly_rate = ((interest_rate/12)/100)\n",
    "monthly_payment = round((principal_amount * monthly_rate) / (1-(1+monthly_rate) ** -loan_term_in_month), 2)\n",
    "print(f\"The monthly payment for the loan: ₦{monthly_payment}\")"
   ]
  },
  {
   "cell_type": "code",
   "execution_count": 1,
   "id": "152abc86",
   "metadata": {
    "ExecuteTime": {
     "end_time": "2023-11-27T00:56:55.408099Z",
     "start_time": "2023-11-27T00:56:54.823003600Z"
    }
   },
   "outputs": [],
   "source": []
  }
 ],
 "metadata": {
  "kernelspec": {
   "display_name": "Python 3 (ipykernel)",
   "language": "python",
   "name": "python3"
  },
  "language_info": {
   "codemirror_mode": {
    "name": "ipython",
    "version": 3
   },
   "file_extension": ".py",
   "mimetype": "text/x-python",
   "name": "python",
   "nbconvert_exporter": "python",
   "pygments_lexer": "ipython3",
   "version": "3.11.5"
  }
 },
 "nbformat": 4,
 "nbformat_minor": 5
}
