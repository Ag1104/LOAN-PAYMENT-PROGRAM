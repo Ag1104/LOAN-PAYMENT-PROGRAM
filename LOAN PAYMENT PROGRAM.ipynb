{
 "cells": [
  {
   "cell_type": "code",
   "execution_count": null,
   "id": "11a8f91e",
   "metadata": {},
   "outputs": [],
   "source": [
    "#Calculate a Loan Payment system\n",
    "principal_amount = int(input(\"How much do you want to borrow?:₦\"))\n",
    "interest_rate = float(input(\"Enter the interest rate: \"))\n",
    "loan_term = int(input(\"Enter the loan duration in years?: \"))\n",
    "loan_term_in_month = loan_term * 12\n",
    "monthly_rate = ((interest_rate/12)/100)\n",
    "monthly_payment = round((principal_amount * monthly_rate) / (1-(1+monthly_rate) ** -loan_term_in_month), 2)\n",
    "print(f\"The monthly payment for the loan: ₦{monthly_payment}\")"
   ]
  }
 ],
 "metadata": {
  "kernelspec": {
   "display_name": "Python 3 (ipykernel)",
   "language": "python",
   "name": "python3"
  },
  "language_info": {
   "codemirror_mode": {
    "name": "ipython",
    "version": 3
   },
   "file_extension": ".py",
   "mimetype": "text/x-python",
   "name": "python",
   "nbconvert_exporter": "python",
   "pygments_lexer": "ipython3",
   "version": "3.11.5"
  }
 },
 "nbformat": 4,
 "nbformat_minor": 5
}
